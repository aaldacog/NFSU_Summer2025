{
 "cells": [
  {
   "cell_type": "markdown",
   "id": "e3fd9bf3",
   "metadata": {},
   "source": [
    "### Numpy implementation \n",
    "### Temperature and Humidity\n",
    "### Dr. Abraham Aldaco\n",
    "#### June 6, 20205"
   ]
  },
  {
   "cell_type": "code",
   "execution_count": 2,
   "id": "3de33c1b",
   "metadata": {},
   "outputs": [],
   "source": [
    "import numpy as np\n",
    "import pandas as pd\n",
    "from sklearn.preprocessing import MinMaxScaler, LabelEncoder\n"
   ]
  },
  {
   "cell_type": "code",
   "execution_count": 3,
   "id": "2c70d7d6",
   "metadata": {},
   "outputs": [],
   "source": [
    "# Load dataset\n",
    "df = pd.read_csv(\"data_Temperature_Humidity.csv\")\n"
   ]
  },
  {
   "cell_type": "code",
   "execution_count": 4,
   "id": "0e148c35",
   "metadata": {},
   "outputs": [
    {
     "data": {
      "text/plain": [
       "<bound method NDFrame.head of    Temperature  Humidity Class\n",
       "0     3.393533  2.331273     A\n",
       "1     3.110073  1.781540     A\n",
       "2     1.343809  3.368361     A\n",
       "3     3.582294  4.679179     A\n",
       "4     2.280362  2.866990     A\n",
       "5     7.423437  4.696523     B\n",
       "6     5.745052  3.533990     B\n",
       "7     9.172169  2.511101     B\n",
       "8     7.792783  3.424089     B\n",
       "9     7.939821  0.791637     B>"
      ]
     },
     "execution_count": 4,
     "metadata": {},
     "output_type": "execute_result"
    }
   ],
   "source": [
    "df.head"
   ]
  },
  {
   "cell_type": "code",
   "execution_count": 5,
   "id": "9df7c834",
   "metadata": {},
   "outputs": [],
   "source": [
    "# Extract inputs and target\n",
    "X = df[['Temperature', 'Humidity']].values\n",
    "y = df['Class']"
   ]
  },
  {
   "cell_type": "code",
   "execution_count": 6,
   "id": "8b982bb6",
   "metadata": {},
   "outputs": [],
   "source": [
    "# Encode class (e.g., 'A' -> 0, other -> 1)\n",
    "label_encoder = LabelEncoder()\n",
    "y_encoded = label_encoder.fit_transform(y).reshape(-1, 1)\n"
   ]
  },
  {
   "cell_type": "code",
   "execution_count": 8,
   "id": "ce406067",
   "metadata": {},
   "outputs": [
    {
     "data": {
      "text/plain": [
       "array([[0],\n",
       "       [0],\n",
       "       [0],\n",
       "       [0],\n",
       "       [0],\n",
       "       [1],\n",
       "       [1],\n",
       "       [1],\n",
       "       [1],\n",
       "       [1]])"
      ]
     },
     "execution_count": 8,
     "metadata": {},
     "output_type": "execute_result"
    }
   ],
   "source": [
    "y_encoded"
   ]
  },
  {
   "cell_type": "code",
   "execution_count": 9,
   "id": "4b025756",
   "metadata": {},
   "outputs": [],
   "source": [
    "# Normalize input features\n",
    "scaler = MinMaxScaler()\n",
    "X_scaled = scaler.fit_transform(X)"
   ]
  },
  {
   "cell_type": "code",
   "execution_count": 10,
   "id": "e57f142e",
   "metadata": {},
   "outputs": [
    {
     "data": {
      "text/plain": [
       "array([[0.26183319, 0.39428457],\n",
       "       [0.22562385, 0.25350356],\n",
       "       [0.        , 0.65987175],\n",
       "       [0.28594562, 0.99555844],\n",
       "       [0.11963599, 0.53147601],\n",
       "       [0.77661583, 1.        ],\n",
       "       [0.56221779, 0.70228755],\n",
       "       [1.        , 0.44033653],\n",
       "       [0.8237964 , 0.6741431 ],\n",
       "       [0.84257905, 0.        ]])"
      ]
     },
     "execution_count": 10,
     "metadata": {},
     "output_type": "execute_result"
    }
   ],
   "source": [
    "X_scaled"
   ]
  },
  {
   "cell_type": "code",
   "execution_count": 11,
   "id": "882a3073",
   "metadata": {},
   "outputs": [],
   "source": [
    "# Define sigmoid and its derivative\n",
    "def sigmoid(x):\n",
    "    return 1 / (1 + np.exp(-x))\n",
    "\n",
    "def sigmoid_derivative(x):\n",
    "    return x * (1 - x)"
   ]
  },
  {
   "cell_type": "code",
   "execution_count": 12,
   "id": "55e56b8f",
   "metadata": {},
   "outputs": [],
   "source": [
    "# Initialize network parameters\n",
    "np.random.seed(42)\n",
    "input_dim = 2      # Temperature, Humidity\n",
    "hidden_dim = 2     # Layer L1: 2 neurons\n",
    "output_dim = 1     # Final output: y_pred\n",
    "learning_rate = 0.1\n",
    "epochs = 1000"
   ]
  },
  {
   "cell_type": "code",
   "execution_count": 13,
   "id": "b528cb6e",
   "metadata": {},
   "outputs": [],
   "source": [
    "# Weight and bias initialization\n",
    "W1 = np.random.randn(input_dim, hidden_dim)\n",
    "b1 = np.zeros((1, hidden_dim))\n",
    "W2 = np.random.randn(hidden_dim, output_dim)\n",
    "b2 = np.zeros((1, output_dim))"
   ]
  },
  {
   "cell_type": "code",
   "execution_count": 14,
   "id": "ac681322",
   "metadata": {},
   "outputs": [
    {
     "name": "stdout",
     "output_type": "stream",
     "text": [
      "[[ 0.49671415 -0.1382643 ]\n",
      " [ 0.64768854  1.52302986]]\n",
      "[[0. 0.]]\n",
      "[[-0.23415337]\n",
      " [-0.23413696]]\n",
      "[[0.]]\n"
     ]
    }
   ],
   "source": [
    "print(W1)\n",
    "print(b1)\n",
    "print(W2)\n",
    "print(b2)"
   ]
  },
  {
   "cell_type": "code",
   "execution_count": 19,
   "id": "25de2f64",
   "metadata": {},
   "outputs": [],
   "source": [
    "\n",
    "# Training loop\n",
    "for epoch in range(epochs):\n",
    "    # Forward pass\n",
    "    z1 = np.dot(X_scaled, W1) + b1\n",
    "    a1 = sigmoid(z1)                    # Output of L1\n",
    "    z2 = np.dot(a1, W2) + b2\n",
    "    y_pred = sigmoid(z2)               # Final prediction\n",
    "\n",
    "    # Compute loss (mean squared error)\n",
    "    loss = np.mean((y_encoded - y_pred) ** 2)\n",
    "\n",
    "    # Backpropagation\n",
    "    error_output = y_encoded - y_pred\n",
    "    d_output = error_output * sigmoid_derivative(y_pred)\n",
    "\n",
    "    error_hidden = d_output.dot(W2.T)\n",
    "    d_hidden = error_hidden * sigmoid_derivative(a1)\n",
    "\n",
    "    # Gradient descent updates\n",
    "    W2 += a1.T.dot(d_output) * learning_rate\n",
    "    b2 += np.sum(d_output, axis=0, keepdims=True) * learning_rate\n",
    "    W1 += X_scaled.T.dot(d_hidden) * learning_rate\n",
    "    b1 += np.sum(d_hidden, axis=0, keepdims=True) * learning_rate"
   ]
  },
  {
   "cell_type": "code",
   "execution_count": 21,
   "id": "2673deea",
   "metadata": {},
   "outputs": [
    {
     "name": "stdout",
     "output_type": "stream",
     "text": [
      "Predictions for first 5 samples:\n",
      " [[0.06078301]\n",
      " [0.03831295]\n",
      " [0.00324477]\n",
      " [0.06752689]\n",
      " [0.00903354]\n",
      " [0.98772266]\n",
      " [0.90013004]\n",
      " [0.99540184]]\n"
     ]
    }
   ],
   "source": [
    "# Final prediction for first 5 samples\n",
    "z1 = np.dot(X_scaled, W1) + b1\n",
    "a1 = sigmoid(z1)\n",
    "z2 = np.dot(a1, W2) + b2\n",
    "final_output = sigmoid(z2)\n",
    "\n",
    "print(\"Predictions for first 5 samples:\\n\", final_output[:8])"
   ]
  }
 ],
 "metadata": {
  "kernelspec": {
   "display_name": "Python 3",
   "language": "python",
   "name": "python3"
  },
  "language_info": {
   "codemirror_mode": {
    "name": "ipython",
    "version": 3
   },
   "file_extension": ".py",
   "mimetype": "text/x-python",
   "name": "python",
   "nbconvert_exporter": "python",
   "pygments_lexer": "ipython3",
   "version": "3.11.0"
  }
 },
 "nbformat": 4,
 "nbformat_minor": 5
}
