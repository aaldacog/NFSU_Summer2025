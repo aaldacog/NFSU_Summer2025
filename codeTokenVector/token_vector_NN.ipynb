{
 "cells": [
  {
   "cell_type": "markdown",
   "id": "ea47755c",
   "metadata": {},
   "source": [
    "<h1> Tokenizer -> Vector -> NN </h1>\n",
    "<h3> Using PyTorch </h3>\n",
    "<h3> Dr. Abraham Aldaco </h3>\n",
    "<h3> June 7, 2025</h3>"
   ]
  },
  {
   "cell_type": "code",
   "execution_count": 2,
   "id": "4e559ef4",
   "metadata": {},
   "outputs": [],
   "source": [
    "import torch\n",
    "import torch.nn as nn"
   ]
  },
  {
   "cell_type": "code",
   "execution_count": 3,
   "id": "7588983e",
   "metadata": {},
   "outputs": [],
   "source": [
    "# 1. Input text\n",
    "text = \"Tokenizer prepares the text for the machine processing.\""
   ]
  },
  {
   "cell_type": "code",
   "execution_count": 4,
   "id": "4fd284b3",
   "metadata": {},
   "outputs": [],
   "source": [
    "# 2. Basic tokenization (splitting by spaces)\n",
    "tokens = text.lower().replace(\".\", \"\").split()"
   ]
  },
  {
   "cell_type": "code",
   "execution_count": 5,
   "id": "e055c74c",
   "metadata": {},
   "outputs": [
    {
     "data": {
      "text/plain": [
       "['tokenizer', 'prepares', 'the', 'text', 'for', 'the', 'machine', 'processing']"
      ]
     },
     "execution_count": 5,
     "metadata": {},
     "output_type": "execute_result"
    }
   ],
   "source": [
    "tokens"
   ]
  },
  {
   "cell_type": "code",
   "execution_count": 6,
   "id": "0008cc1f",
   "metadata": {},
   "outputs": [
    {
     "name": "stdout",
     "output_type": "stream",
     "text": [
      "Vocabulary: {'processing': 0, 'for': 1, 'tokenizer': 2, 'prepares': 3, 'text': 4, 'machine': 5, 'the': 6}\n"
     ]
    }
   ],
   "source": [
    "# 3. Create a toy vocabulary\n",
    "vocab = {word: idx for idx, word in enumerate(set(tokens))}\n",
    "vocab_size = len(vocab)\n",
    "print(\"Vocabulary:\", vocab)"
   ]
  },
  {
   "cell_type": "code",
   "execution_count": 7,
   "id": "be33ca08",
   "metadata": {},
   "outputs": [
    {
     "data": {
      "text/plain": [
       "{'processing': 0,\n",
       " 'for': 1,\n",
       " 'tokenizer': 2,\n",
       " 'prepares': 3,\n",
       " 'text': 4,\n",
       " 'machine': 5,\n",
       " 'the': 6}"
      ]
     },
     "execution_count": 7,
     "metadata": {},
     "output_type": "execute_result"
    }
   ],
   "source": [
    "vocab"
   ]
  },
  {
   "cell_type": "code",
   "execution_count": 8,
   "id": "394abcfc",
   "metadata": {},
   "outputs": [
    {
     "name": "stdout",
     "output_type": "stream",
     "text": [
      "Token IDs: [2, 3, 6, 4, 1, 6, 5, 0]\n"
     ]
    }
   ],
   "source": [
    "# 4. Map tokens to integer IDs\n",
    "token_ids = [vocab[token] for token in tokens]\n",
    "print(\"Token IDs:\", token_ids)"
   ]
  },
  {
   "cell_type": "code",
   "execution_count": 9,
   "id": "ce6af987",
   "metadata": {},
   "outputs": [],
   "source": [
    "# 5. Embedding layer\n",
    "embedding_dim = 8  # keep it small for simplicity\n",
    "embedding = nn.Embedding(num_embeddings=vocab_size, embedding_dim=embedding_dim)\n"
   ]
  },
  {
   "cell_type": "code",
   "execution_count": 10,
   "id": "e1ed9e26",
   "metadata": {},
   "outputs": [
    {
     "data": {
      "text/plain": [
       "Embedding(7, 8)"
      ]
     },
     "execution_count": 10,
     "metadata": {},
     "output_type": "execute_result"
    }
   ],
   "source": [
    "embedding"
   ]
  },
  {
   "cell_type": "code",
   "execution_count": 11,
   "id": "b71ade8b",
   "metadata": {},
   "outputs": [],
   "source": [
    "# Convert to tensor\n",
    "input_tensor = torch.tensor(token_ids)"
   ]
  },
  {
   "cell_type": "code",
   "execution_count": 12,
   "id": "5abea9d6",
   "metadata": {},
   "outputs": [
    {
     "data": {
      "text/plain": [
       "tensor([2, 3, 6, 4, 1, 6, 5, 0])"
      ]
     },
     "execution_count": 12,
     "metadata": {},
     "output_type": "execute_result"
    }
   ],
   "source": [
    "input_tensor"
   ]
  },
  {
   "cell_type": "code",
   "execution_count": 13,
   "id": "e42fffb5",
   "metadata": {},
   "outputs": [
    {
     "name": "stdout",
     "output_type": "stream",
     "text": [
      "Embedded vectors:\n",
      " tensor([[ 0.0769,  0.2325, -1.0274,  0.8823,  0.3448,  2.2765, -0.3892, -0.0397],\n",
      "        [-1.8331,  1.6500,  2.1409,  1.1627,  0.1921, -0.1486,  0.1632,  0.7333],\n",
      "        [-1.0851, -0.1812,  0.5194,  0.5649, -1.1100, -0.1207, -0.4247,  0.3175],\n",
      "        [ 0.3195, -0.8642, -0.3282,  0.6259,  0.0832,  0.2968,  1.7238, -0.5362],\n",
      "        [ 0.1742, -0.0992,  0.6010, -0.4233,  0.7054, -0.7344, -2.7576,  0.1515],\n",
      "        [-1.0851, -0.1812,  0.5194,  0.5649, -1.1100, -0.1207, -0.4247,  0.3175],\n",
      "        [-0.6787, -0.5617,  0.6767, -0.4149,  1.2115,  0.4026, -0.0674,  0.6673],\n",
      "        [-0.6453, -0.1294,  0.8202, -0.9534, -0.5756,  1.6229,  1.2124, -2.1098]],\n",
      "       grad_fn=<EmbeddingBackward0>)\n"
     ]
    }
   ],
   "source": [
    "# 6. Get word vectors (embeddings)\n",
    "embedded = embedding(input_tensor)\n",
    "print(\"Embedded vectors:\\n\", embedded)"
   ]
  },
  {
   "cell_type": "code",
   "execution_count": 14,
   "id": "eafde79d",
   "metadata": {},
   "outputs": [
    {
     "name": "stdout",
     "output_type": "stream",
     "text": [
      "Output to next layer:\n",
      " tensor([[ 0.1748, -0.0067, -0.0671,  0.2363],\n",
      "        [ 0.7117,  0.9856, -1.4215, -0.3179],\n",
      "        [-0.4842,  0.4358,  0.1136, -0.0773],\n",
      "        [ 0.5885,  0.4342,  0.5176, -0.0836],\n",
      "        [-0.7912, -0.8245, -0.0200,  0.1152],\n",
      "        [-0.4842,  0.4358,  0.1136, -0.0773],\n",
      "        [-0.0396, -0.0565, -0.0877, -0.1660],\n",
      "        [ 0.0465,  0.6761,  0.0345,  0.7816]], grad_fn=<AddmmBackward0>)\n"
     ]
    }
   ],
   "source": [
    "# 7. Simulate a simple neural network layer (1 hidden linear layer)\n",
    "linear_layer = nn.Linear(embedding_dim, 4)  # output 4 features per token\n",
    "output = linear_layer(embedded)\n",
    "print(\"Output to next layer:\\n\", output)"
   ]
  },
  {
   "cell_type": "markdown",
   "id": "0fed7c26",
   "metadata": {},
   "source": [
    "<h3><span style=\"color:Green\">Explanation of the <strong>Step #7</strong></span></h3>\n",
    "\n",
    "<h4 style=\"color:orange\">The line :<span style=\"font-family:'Courier New'; color:blue\">linear_layer = nn.Linear(embedding_dim, 4)</span></h4>\n",
    "\n",
    "\n",
    "\n",
    "<ul>\n",
    "  <li>Creates a fully connected (dense) linear layer.</li>\n",
    "  <li><strong>embedding_dim</strong> is the input size (e.g., 8). This matches the size of the word embedding vectors.</li>\n",
    "  <li><strong>4</strong> is the output size, meaning each input embedding will be transformed into a 4-dimensional vector.</li>\n",
    "</ul>\n",
    "\n",
    "<p>In math terms: </p>\n",
    "For each input vector  \n",
    "\n",
    "$\\vec{x} \\in \\mathbb{R}^{embedding\\_dim}$\n",
    "\n",
    "the linear layer computes:\n",
    "\n",
    "$\n",
    "\\vec{y} = W \\vec{x} + \\vec{b}\n",
    "$\n",
    "\n",
    "where $W \\in \\mathbb{R}^{4 \\times embedding\\_dim}, \\quad \\vec{b} \\in \\mathbb{R}^4$\n",
    "\n",
    "<h4 style=\"color:orange\">The line : <span style=\"font-family:'Courier New'; color:blue\">output = linear_layer(embedded)</span></h4>\n",
    "<ul>\n",
    "  <li>Applies the linear transformation to the <b>entire sequence</b> of embedded tokens.</li>\n",
    "  <li>If <b>embedded</b> has shape <b>(seq_len, embedding_dim)</b>, then:\n",
    "      <ul>\n",
    "          <li><b>output</b> will have shape <b>(seq_len, 4)</b> — each token is now represented by a new 4-dimensional vector. </li>\n",
    "      </ul>\n",
    "  </li>\n",
    "\n",
    "</ul>"
   ]
  },
  {
   "cell_type": "markdown",
   "id": "4f2196b9",
   "metadata": {},
   "source": [
    "<h1 style=\"color:black\"> Measure Cosine Similarity Between Word Embeddings </h1>"
   ]
  },
  {
   "cell_type": "code",
   "execution_count": 20,
   "id": "d9e5a5f5",
   "metadata": {},
   "outputs": [],
   "source": [
    "from torch.nn.functional import cosine_similarity"
   ]
  },
  {
   "cell_type": "code",
   "execution_count": 25,
   "id": "9f298ecf",
   "metadata": {},
   "outputs": [
    {
     "name": "stdout",
     "output_type": "stream",
     "text": [
      "['tokenizer', 'prepares', 'the', 'text', 'for', 'the', 'machine', 'processing']\n",
      "\n",
      "tensor([[ 0.0769,  0.2325, -1.0274,  0.8823,  0.3448,  2.2765, -0.3892, -0.0397],\n",
      "        [-1.8331,  1.6500,  2.1409,  1.1627,  0.1921, -0.1486,  0.1632,  0.7333],\n",
      "        [-1.0851, -0.1812,  0.5194,  0.5649, -1.1100, -0.1207, -0.4247,  0.3175],\n",
      "        [ 0.3195, -0.8642, -0.3282,  0.6259,  0.0832,  0.2968,  1.7238, -0.5362],\n",
      "        [ 0.1742, -0.0992,  0.6010, -0.4233,  0.7054, -0.7344, -2.7576,  0.1515],\n",
      "        [-1.0851, -0.1812,  0.5194,  0.5649, -1.1100, -0.1207, -0.4247,  0.3175],\n",
      "        [-0.6787, -0.5617,  0.6767, -0.4149,  1.2115,  0.4026, -0.0674,  0.6673],\n",
      "        [-0.6453, -0.1294,  0.8202, -0.9534, -0.5756,  1.6229,  1.2124, -2.1098]],\n",
      "       grad_fn=<EmbeddingBackward0>)\n"
     ]
    }
   ],
   "source": [
    "print(tokens)\n",
    "print()\n",
    "print(embedded)"
   ]
  },
  {
   "cell_type": "code",
   "execution_count": 16,
   "id": "ec386b48",
   "metadata": {},
   "outputs": [
    {
     "name": "stdout",
     "output_type": "stream",
     "text": [
      "Cosine similarity between 'text' and 'machine': -0.1153\n"
     ]
    }
   ],
   "source": [
    "# Compare similarity between \"text\" and \"machine\"\n",
    "vec1 = embedded[tokens.index(\"text\")]\n",
    "vec2 = embedded[tokens.index(\"machine\")]\n",
    "similarity = cosine_similarity(vec1, vec2, dim=0)\n",
    "print(f\"Cosine similarity between 'text' and 'machine': {similarity.item():.4f}\")"
   ]
  },
  {
   "cell_type": "code",
   "execution_count": null,
   "id": "b55b76dc",
   "metadata": {},
   "outputs": [
    {
     "name": "stdout",
     "output_type": "stream",
     "text": [
      "Cosine similarity between 'text' and 'machine': 0.1502\n"
     ]
    }
   ],
   "source": [
    "# Compare similarity between \"tokenizer\" and \"processing\"\n",
    "vec1 = embedded[tokens.index(\"tokenizer\")]\n",
    "vec2 = embedded[tokens.index(\"processing\")]\n",
    "similarity = cosine_similarity(vec1, vec2, dim=0)\n",
    "print(f\"Cosine similarity between 'text' and 'machine': {similarity.item():.4f}\")"
   ]
  },
  {
   "cell_type": "markdown",
   "id": "d1778c81",
   "metadata": {},
   "source": [
    "<h1 style=\"color:black\">Visualize Embeddings</h1>"
   ]
  },
  {
   "cell_type": "code",
   "execution_count": 26,
   "id": "f68da313",
   "metadata": {},
   "outputs": [
    {
     "data": {
      "image/png": "[encoded data removed]",
      "text/plain": [
       "<Figure size 600x500 with 1 Axes>"
      ]
     },
     "metadata": {},
     "output_type": "display_data"
    }
   ],
   "source": [
    "import matplotlib.pyplot as plt\n",
    "from sklearn.decomposition import PCA\n",
    "\n",
    "embedded_np = embedded.detach().numpy()\n",
    "pca = PCA(n_components=2)\n",
    "reduced = pca.fit_transform(embedded_np)\n",
    "\n",
    "plt.figure(figsize=(6, 5))\n",
    "for i, word in enumerate(tokens):\n",
    "    plt.scatter(reduced[i, 0], reduced[i, 1])\n",
    "    plt.text(reduced[i, 0], reduced[i, 1], word)\n",
    "plt.title(\"2D PCA of Word Embeddings\")\n",
    "plt.show()"
   ]
  }
 ],
 "metadata": {
  "kernelspec": {
   "display_name": "Python 3",
   "language": "python",
   "name": "python3"
  },
  "language_info": {
   "codemirror_mode": {
    "name": "ipython",
    "version": 3
   },
   "file_extension": ".py",
   "mimetype": "text/x-python",
   "name": "python",
   "nbconvert_exporter": "python",
   "pygments_lexer": "ipython3",
   "version": "3.11.0"
  }
 },
 "nbformat": 4,
 "nbformat_minor": 5
}
